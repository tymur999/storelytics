{
 "cells": [
  {
   "cell_type": "code",
   "execution_count": null,
   "metadata": {},
   "outputs": [],
   "source": [
    "import cv2 as cv\n",
    "import numpy as np\n",
    "import matplotlib.pyplot as plt\n",
    "import statistics"
   ]
  },
  {
   "cell_type": "code",
   "execution_count": null,
   "metadata": {},
   "outputs": [],
   "source": [
    "img1 = cv.imread('obamaface.png', cv.IMREAD_GRAYSCALE)\n",
    "img2 = cv.imread('obamaface2.jpg', cv.IMREAD_GRAYSCALE)\n",
    "\n",
    "# orb finds keypoints\n",
    "orb = cv.ORB_create()\n",
    "\n",
    "# finds keypoints and descriptors\n",
    "\n",
    "# keypoints are the same thing as interest points. \n",
    "# They are spatial locations, or points in the image that define what is interesting or what stand out in the image.\n",
    "\n",
    "# What makes keypoints different between frameworks is the way you describe these keypoints.\n",
    "# Descriptors are primarily concerned with both the scale and the orientation of the keypoint.\n",
    "# but we need the descriptor part if it is our purpose to try and match between keypoints in different images\n",
    "# https://stackoverflow.com/questions/29133085/what-are-keypoints-in-image-processing#:~:text=Key%2Dpoints%20should%20simply%20be,%2C%20just%20like%20%40rayryeng%20explained.\n",
    "\n",
    "kp1, des1 = orb.detectAndCompute(img1,None)\n",
    "kp2, des2 = orb.detectAndCompute(img2,None)"
   ]
  },
  {
   "cell_type": "markdown",
   "metadata": {},
   "source": []
  },
  {
   "cell_type": "code",
   "execution_count": null,
   "metadata": {},
   "outputs": [],
   "source": [
    "# create BFMatcher object\n",
    "bf = cv.BFMatcher(cv.NORM_HAMMING, crossCheck=True)\n",
    "# Match descriptors.\n",
    "matches = bf.match(des1,des2)\n",
    "# Sort them in the order of their distance.\n",
    "matches = sorted(matches, key = lambda x:x.distance)\n",
    " # draw 10 lines between the top 10 match points between the two pictures\n",
    "img3 = cv.drawMatches(img1,kp1,img2,kp2,matches[:10],None,flags=cv.DrawMatchesFlags_NOT_DRAW_SINGLE_POINTS)\n",
    "plt.imshow(img3),plt.show()"
   ]
  },
  {
   "cell_type": "code",
   "execution_count": null,
   "metadata": {},
   "outputs": [],
   "source": [
    "matches = sorted(matches, key = lambda x:x.distance)\n",
    "# contains match objects with attributes\n",
    "# DMatch.distance - Distance between descriptors. The lower, the better it is.\n",
    "# DMatch.trainIdx - Index of the descriptor in train descriptors\n",
    "# DMatch.queryIdx - Index of the descriptor in query descriptors\n",
    "# DMatch.imgIdx - Index of the train image.\n",
    "counter = 0\n",
    "for match in matches:\n",
    "    counter += match.distance\n",
    "print(matches[0].distance)"
   ]
  },
  {
   "cell_type": "code",
   "execution_count": null,
   "metadata": {},
   "outputs": [],
   "source": [
    "img4 = cv.imread('asian.jpg', cv.IMREAD_GRAYSCALE)\n",
    "\n",
    "kp4, des4 = orb.detectAndCompute(img4, None)\n",
    "\n",
    "matches2 = bf.match(des1, des4)\n",
    "\n",
    "matches2 = sorted(matches, key = lambda x:x.distance)\n",
    "\n",
    "img5 = cv.drawMatches(img1,kp1,img4,kp4,matches[:10],None,flags=cv.DrawMatchesFlags_NOT_DRAW_SINGLE_POINTS)"
   ]
  },
  {
   "cell_type": "code",
   "execution_count": null,
   "metadata": {},
   "outputs": [],
   "source": [
    "plt.imshow(img5),plt.show()\n",
    "print(matches2[0].distance)"
   ]
  },
  {
   "cell_type": "markdown",
   "metadata": {},
   "source": []
  },
  {
   "cell_type": "code",
   "execution_count": null,
   "metadata": {},
   "outputs": [],
   "source": [
    "import face_recognition"
   ]
  }
 ],
 "metadata": {
  "kernelspec": {
   "display_name": "Python 3.10.5 64-bit (windows store)",
   "language": "python",
   "name": "python3"
  },
  "language_info": {
   "codemirror_mode": {
    "name": "ipython",
    "version": 3
   },
   "file_extension": ".py",
   "mimetype": "text/x-python",
   "name": "python",
   "nbconvert_exporter": "python",
   "pygments_lexer": "ipython3",
   "version": "3.10.5"
  },
  "orig_nbformat": 4,
  "vscode": {
   "interpreter": {
    "hash": "ff0a2eb8985924c592a5cfc3c49b2c72f0fc55b6836eac898275712ea4702818"
   }
  }
 },
 "nbformat": 4,
 "nbformat_minor": 2
}
