{
 "cells": [
  {
   "cell_type": "markdown",
   "metadata": {},
   "source": [
    "Import modules required for face recognition, plotting, and threads"
   ]
  },
  {
   "cell_type": "code",
   "execution_count": 2,
   "metadata": {},
   "outputs": [],
   "source": [
    "import face_recognition as fr\n",
    "import matplotlib.pyplot as plt\n",
    "import cv2\n",
    "import threading"
   ]
  },
  {
   "cell_type": "markdown",
   "metadata": {},
   "source": [
    "Define callback for when a face is detected"
   ]
  },
  {
   "cell_type": "code",
   "execution_count": 24,
   "metadata": {},
   "outputs": [],
   "source": [
    "def thread_callback(encodings, frame):\n",
    "    # frame = cv2.resize(frame, (0, 0), fx=0.25, fy=0.25) #scale down to 25%\n",
    "    # frame = cv2.cvtColor(frame, cv2.COLOR_BGR2RGB) #convert to rgb\n",
    "    face_locations = fr.face_locations(frame)\n",
    "    face_encodings = fr.face_encodings(frame, face_locations)\n",
    "    for face_encoding in face_encodings:\n",
    "        print(fr.compare_faces(encodings, face_encoding))"
   ]
  },
  {
   "cell_type": "markdown",
   "metadata": {},
   "source": [
    "Load Tymur image and process encodings"
   ]
  },
  {
   "cell_type": "code",
   "execution_count": 23,
   "metadata": {},
   "outputs": [],
   "source": [
    "tymur_image = fr.load_image_file(\"./data/tymur.jpg\")\n",
    "tymur_image_encoding = fr.face_encodings(tymur_image)[0]"
   ]
  },
  {
   "cell_type": "markdown",
   "metadata": {},
   "source": [
    "Define camera initiating and recording method"
   ]
  },
  {
   "cell_type": "code",
   "execution_count": 2,
   "metadata": {},
   "outputs": [],
   "source": [
    "def run_camera(num):\n",
    "    window_name = 'frame' + str(num)\n",
    "    stream = cv2.VideoCapture(num)\n",
    "\n",
    "    count = 0\n",
    "    while(True):\n",
    "        ret, frame = stream.read()\n",
    "        \n",
    "        if cv2.waitKey(1) & 0xFF == ord('q'):\n",
    "            break\n",
    "        \n",
    "        count += 1\n",
    "        if count % 5 == 0: #get every 5th frame\n",
    "            thread = threading.Thread(target=thread_callback, args=([tymur_image_encoding], frame,), daemon=True)\n",
    "            thread.start()\n",
    "            cv2.imshow(window_name, frame)\n",
    "\n",
    "    stream.release()\n",
    "    cv2.destroyWindow(window_name)"
   ]
  },
  {
   "cell_type": "markdown",
   "metadata": {},
   "source": [
    "Check that cameras can be accessed at the same time (they cannot be)"
   ]
  },
  {
   "cell_type": "code",
   "execution_count": 3,
   "metadata": {},
   "outputs": [],
   "source": [
    "stream = cv2.VideoCapture(0)\n",
    "stream1 = cv2.VideoCapture(1)\n",
    "stream.release(), stream1.release()"
   ]
  },
  {
   "cell_type": "markdown",
   "metadata": {},
   "source": [
    "Run camera code on both front and back cameras (on separate threads)"
   ]
  },
  {
   "cell_type": "code",
   "execution_count": 29,
   "metadata": {},
   "outputs": [
    {
     "name": "stdout",
     "output_type": "stream",
     "text": [
      "[True]\n",
      "[True]\n",
      "[True][True]\n",
      "[True]\n",
      "\n",
      "[True]\n",
      "[True][True]\n",
      "[True]\n",
      "\n",
      "[True]\n",
      "[True]\n",
      "[True]\n",
      "[True]\n",
      "[True]\n",
      "[True]\n",
      "[True]\n",
      "[True]\n",
      "[True]\n",
      "[True]\n",
      "[True]\n",
      "[True]\n",
      "[True]\n",
      "[True]\n",
      "[True]\n",
      "[False]\n",
      "[True]\n",
      "[True]\n"
     ]
    }
   ],
   "source": [
    "front_cam_thread = threading.Thread(target=run_camera, args=(0,), daemon=True)\n",
    "back_cam_thread = threading.Thread(target=run_camera, args=(1,), daemon=True)\n",
    "front_cam_thread.start(), back_cam_thread.start()\n",
    "\n",
    "front_cam_thread.join(), back_cam_thread.join()\n",
    "threading._shutdown()\n",
    "cv2.destroyAllWindows()"
   ]
  }
 ],
 "metadata": {
  "kernelspec": {
   "display_name": "Python 3.10.5 64-bit (windows store)",
   "language": "python",
   "name": "python3"
  },
  "language_info": {
   "codemirror_mode": {
    "name": "ipython",
    "version": 3
   },
   "file_extension": ".py",
   "mimetype": "text/x-python",
   "name": "python",
   "nbconvert_exporter": "python",
   "pygments_lexer": "ipython3",
   "version": "3.10.5"
  },
  "orig_nbformat": 4,
  "vscode": {
   "interpreter": {
    "hash": "ff0a2eb8985924c592a5cfc3c49b2c72f0fc55b6836eac898275712ea4702818"
   }
  }
 },
 "nbformat": 4,
 "nbformat_minor": 2
}
