{
 "cells": [
  {
   "cell_type": "code",
   "execution_count": 3,
   "metadata": {},
   "outputs": [],
   "source": [
    "import face_recognition\n",
    "import cv2 as cv"
   ]
  },
  {
   "cell_type": "code",
   "execution_count": 4,
   "metadata": {},
   "outputs": [],
   "source": [
    "img1 = face_recognition.load_image_file(\"././data/trumpface.jpeg\")\n",
    "img2 = face_recognition.load_image_file(\"././data/obama.jpg\")\n",
    "img3 = face_recognition.load_image_file(\"././data/mj.jpg\")\n",
    "img4 = face_recognition.load_image_file(\"././data/obamaface.png\")"
   ]
  },
  {
   "cell_type": "code",
   "execution_count": 5,
   "metadata": {},
   "outputs": [],
   "source": [
    "img1_encoding = face_recognition.face_encodings(img1)[0]\n",
    "img2_encoding = face_recognition.face_encodings(img2)[0]\n",
    "img3_encoding = face_recognition.face_encodings(img3)[0]\n",
    "img4_encoding = face_recognition.face_encodings(img4)[0]"
   ]
  },
  {
   "cell_type": "code",
   "execution_count": 6,
   "metadata": {},
   "outputs": [],
   "source": [
    "results = face_recognition.compare_faces([img1_encoding, img3_encoding], img4_encoding)"
   ]
  },
  {
   "cell_type": "code",
   "execution_count": 7,
   "metadata": {},
   "outputs": [
    {
     "name": "stdout",
     "output_type": "stream",
     "text": [
      "[False, False]\n"
     ]
    }
   ],
   "source": [
    "print(results)"
   ]
  }
 ],
 "metadata": {
  "kernelspec": {
   "display_name": "Python 3.10.5 64-bit (windows store)",
   "language": "python",
   "name": "python3"
  },
  "language_info": {
   "codemirror_mode": {
    "name": "ipython",
    "version": 3
   },
   "file_extension": ".py",
   "mimetype": "text/x-python",
   "name": "python",
   "nbconvert_exporter": "python",
   "pygments_lexer": "ipython3",
   "version": "3.10.5"
  },
  "orig_nbformat": 4,
  "vscode": {
   "interpreter": {
    "hash": "ff0a2eb8985924c592a5cfc3c49b2c72f0fc55b6836eac898275712ea4702818"
   }
  }
 },
 "nbformat": 4,
 "nbformat_minor": 2
}
