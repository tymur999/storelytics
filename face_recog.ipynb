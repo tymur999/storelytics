{
 "cells": [
  {
   "cell_type": "markdown",
   "metadata": {},
   "source": [
    "### Face Recognition"
   ]
  },
  {
   "cell_type": "markdown",
   "metadata": {},
   "source": [
    "Responsible for face recognition of new people entering our store"
   ]
  },
  {
   "cell_type": "markdown",
   "metadata": {},
   "source": [
    "#### Import Modules"
   ]
  },
  {
   "cell_type": "code",
   "execution_count": 2,
   "metadata": {},
   "outputs": [
    {
     "ename": "ModuleNotFoundError",
     "evalue": "No module named 'matplotlib'",
     "output_type": "error",
     "traceback": [
      "\u001b[1;31m---------------------------------------------------------------------------\u001b[0m",
      "\u001b[1;31mModuleNotFoundError\u001b[0m                       Traceback (most recent call last)",
      "\u001b[1;32mc:\\Users\\tymur999\\PycharmProjects\\storelytics\\face_recog.ipynb Cell 4\u001b[0m in \u001b[0;36m<cell line: 2>\u001b[1;34m()\u001b[0m\n\u001b[0;32m      <a href='vscode-notebook-cell:/c%3A/Users/tymur999/PycharmProjects/storelytics/face_recog.ipynb#ch0000010?line=0'>1</a>\u001b[0m \u001b[39mimport\u001b[39;00m \u001b[39mface_recognition\u001b[39;00m\n\u001b[1;32m----> <a href='vscode-notebook-cell:/c%3A/Users/tymur999/PycharmProjects/storelytics/face_recog.ipynb#ch0000010?line=1'>2</a>\u001b[0m \u001b[39mimport\u001b[39;00m \u001b[39mmatplotlib\u001b[39;00m\u001b[39m.\u001b[39;00m\u001b[39mpyplot\u001b[39;00m \u001b[39mas\u001b[39;00m \u001b[39mplt\u001b[39;00m\n",
      "\u001b[1;31mModuleNotFoundError\u001b[0m: No module named 'matplotlib'"
     ]
    }
   ],
   "source": [
    "import face_recognition\n",
    "import matplotlib.pyplot as plt"
   ]
  },
  {
   "cell_type": "markdown",
   "metadata": {},
   "source": [
    "#### Process initial images"
   ]
  },
  {
   "cell_type": "markdown",
   "metadata": {},
   "source": [
    "Load images responsible for facial recognition. Includes Obama and Trump image, with unknown (Obama) image."
   ]
  },
  {
   "cell_type": "code",
   "execution_count": 1,
   "metadata": {},
   "outputs": [
    {
     "ename": "NameError",
     "evalue": "name 'face_recognition' is not defined",
     "output_type": "error",
     "traceback": [
      "\u001b[1;31m---------------------------------------------------------------------------\u001b[0m",
      "\u001b[1;31mNameError\u001b[0m                                 Traceback (most recent call last)",
      "\u001b[1;32mc:\\Users\\tymur999\\PycharmProjects\\storelytics\\face_recog.ipynb Cell 7\u001b[0m in \u001b[0;36m<cell line: 1>\u001b[1;34m()\u001b[0m\n\u001b[1;32m----> <a href='vscode-notebook-cell:/c%3A/Users/tymur999/PycharmProjects/storelytics/face_recog.ipynb#ch0000015?line=0'>1</a>\u001b[0m obama_image \u001b[39m=\u001b[39m face_recognition\u001b[39m.\u001b[39mload_image_file(\u001b[39m\"\u001b[39m\u001b[39mobama.jpg\u001b[39m\u001b[39m\"\u001b[39m)\n\u001b[0;32m      <a href='vscode-notebook-cell:/c%3A/Users/tymur999/PycharmProjects/storelytics/face_recog.ipynb#ch0000015?line=1'>2</a>\u001b[0m trump_image \u001b[39m=\u001b[39m face_recognition\u001b[39m.\u001b[39mload_image_file(\u001b[39m\"\u001b[39m\u001b[39mtrumpface.jpeg\u001b[39m\u001b[39m\"\u001b[39m)\n\u001b[0;32m      <a href='vscode-notebook-cell:/c%3A/Users/tymur999/PycharmProjects/storelytics/face_recog.ipynb#ch0000015?line=2'>3</a>\u001b[0m unknown_image \u001b[39m=\u001b[39m face_recognition\u001b[39m.\u001b[39mload_image_file(\u001b[39m\"\u001b[39m\u001b[39mobama2.jpg\u001b[39m\u001b[39m\"\u001b[39m)\n",
      "\u001b[1;31mNameError\u001b[0m: name 'face_recognition' is not defined"
     ]
    }
   ],
   "source": [
    "obama_image = face_recognition.load_image_file(\"obama.jpg\")\n",
    "trump_image = face_recognition.load_image_file(\"trumpface.jpeg\")\n",
    "unknown_image = face_recognition.load_image_file(\"obama2.jpg\")\n",
    "plt.imgshow(obama_image)"
   ]
  },
  {
   "cell_type": "markdown",
   "metadata": {},
   "source": [
    "Process facial recognition in images"
   ]
  },
  {
   "cell_type": "code",
   "execution_count": null,
   "metadata": {},
   "outputs": [],
   "source": [
    "obama_encoding = face_recognition.face_encodings(obama_image)[0] #Get first encoding (first face)\n",
    "trump_encoding = face_recognition.face_encodings(trump_image)[0]\n",
    "unknown_encoding = face_recognition.face_encodings(unknown_image)[0]"
   ]
  }
 ],
 "metadata": {
  "kernelspec": {
   "display_name": "Python 3.10.5 64-bit (windows store)",
   "language": "python",
   "name": "python3"
  },
  "language_info": {
   "codemirror_mode": {
    "name": "ipython",
    "version": 3
   },
   "file_extension": ".py",
   "mimetype": "text/x-python",
   "name": "python",
   "nbconvert_exporter": "python",
   "pygments_lexer": "ipython3",
   "version": "3.10.5"
  },
  "orig_nbformat": 4,
  "vscode": {
   "interpreter": {
    "hash": "ff0a2eb8985924c592a5cfc3c49b2c72f0fc55b6836eac898275712ea4702818"
   }
  }
 },
 "nbformat": 4,
 "nbformat_minor": 2
}
